{
 "cells": [
  {
   "cell_type": "markdown",
   "id": "15d7fcbd",
   "metadata": {},
   "source": [
    "# A single particle in a double well potential\n",
    "\n",
    "This example will run [Langevin dynamics](https://en.wikipedia.org/wiki/Langevin_dynamics) for a single particle in a double well potential. The double well potential ($V_\\text{pot}$) is given by\n",
    "\n",
    "$$V_\\text{pot} = a x^4 - b (x - c)^2,$$\n",
    "\n",
    "where $a$, $b$, and $c$ are potential parameters, and $x$ is the position of the particle."
   ]
  },
  {
   "cell_type": "markdown",
   "id": "840b7834",
   "metadata": {},
   "source": [
    "## Importing turtlemd and displaying the potential function"
   ]
  },
  {
   "cell_type": "code",
   "execution_count": null,
   "id": "4e349e8b",
   "metadata": {},
   "outputs": [],
   "source": [
    "import black\n",
    "import jupyter_black\n",
    "\n",
    "jupyter_black.load(\n",
    "    lab=False,\n",
    "    line_length=79,\n",
    "    verbosity=\"DEBUG\",\n",
    "    target_version=black.TargetVersion.PY310,\n",
    ")"
   ]
  },
  {
   "cell_type": "code",
   "execution_count": null,
   "id": "cbda059a",
   "metadata": {},
   "outputs": [],
   "source": [
    "# Imports from turtlemd:\n",
    "from turtlemd.system import Box, System, Particles\n",
    "from turtlemd.potentials.well import DoubleWell\n",
    "from turtlemd.integrators import LangevinIntertia\n",
    "from turtlemd.simulation import MDSimulation"
   ]
  },
  {
   "cell_type": "code",
   "execution_count": null,
   "id": "6f3b8fcf",
   "metadata": {},
   "outputs": [],
   "source": [
    "# Imports for plotting and numerics\n",
    "import numpy as np\n",
    "import matplotlib.pyplot as plt\n",
    "from matplotlib.animation import FuncAnimation\n",
    "import seaborn as sns\n",
    "\n",
    "%matplotlib notebook\n",
    "sns.set_context(\"notebook\")"
   ]
  },
  {
   "cell_type": "markdown",
   "id": "536f2770",
   "metadata": {},
   "source": [
    "To display the potential energy as a function of the position, we first initialize the potential:"
   ]
  },
  {
   "cell_type": "code",
   "execution_count": null,
   "id": "ff7f2e7a",
   "metadata": {},
   "outputs": [],
   "source": [
    "potential = DoubleWell(a=1.0, b=2.0, c=0.0)\n",
    "print(potential)"
   ]
  },
  {
   "cell_type": "markdown",
   "id": "86bedda8",
   "metadata": {},
   "source": [
    "Next, we create a method we can reuse for calculating the potential energy.\n",
    "Since the potential energy functions assume they will operate on a system, we also have to create a system with a box and one particle. After that, we move\n",
    "the particle around to calculate the potential energy at different locations."
   ]
  },
  {
   "cell_type": "code",
   "execution_count": null,
   "id": "3013d741",
   "metadata": {},
   "outputs": [],
   "source": [
    "def calculate_potential_curve(potential):\n",
    "    \"\"\"Calculate the potential energy for a 1D potential\"\"\"\n",
    "    box = Box(periodic=[False])\n",
    "    particles = Particles(dim=box.dim)\n",
    "    particles.add_particle(pos=0.0)\n",
    "    system = System(box=box, particles=particles, potentials=[potential])\n",
    "    pos = np.linspace(-1.7, 1.7, 100)\n",
    "    vpot = []\n",
    "    for xi in pos:\n",
    "        system.particles.pos[0] = xi\n",
    "        vpot.append(system.potential())\n",
    "    return pos, vpot\n",
    "\n",
    "\n",
    "fig, ax = plt.subplots(constrained_layout=True)\n",
    "pos, vpot = calculate_potential_curve(potential)\n",
    "ax.plot(pos, vpot)\n",
    "ax.set(xlabel=\"Position (arbitrary unit)\", ylabel=\"Energy (arbitrary unit)\")\n",
    "sns.despine(fig=fig)"
   ]
  },
  {
   "cell_type": "markdown",
   "id": "89342f61",
   "metadata": {},
   "source": [
    "## Running Langevin dynamics for one particle\n",
    "\n",
    "To run the dynamics for a single particle, we will create a system (with a box and a particle), a Langevin integrator and a MD simulation:"
   ]
  },
  {
   "cell_type": "code",
   "execution_count": null,
   "id": "a48e17b0",
   "metadata": {},
   "outputs": [],
   "source": [
    "# Set up the system:\n",
    "box = Box(periodic=[False])\n",
    "particles = Particles(dim=box.dim)\n",
    "particles.add_particle(pos=-1.0)\n",
    "system = System(box=box, particles=particles, potentials=[potential])\n",
    "\n",
    "# Set up the integrator:\n",
    "integrator = LangevinIntertia(\n",
    "    timestep=0.002,\n",
    "    gamma=0.3,\n",
    "    beta=1.0 / 0.07,\n",
    "    seed=0,\n",
    ")\n",
    "\n",
    "# Create a simulation:\n",
    "simulation = MDSimulation(system=system, integrator=integrator, steps=1000)"
   ]
  },
  {
   "cell_type": "markdown",
   "id": "9aebe009",
   "metadata": {},
   "source": [
    "To run the simulation you can use ``simulation.run()``. Here, we will use that and animate the location of the particle:"
   ]
  },
  {
   "cell_type": "code",
   "execution_count": null,
   "id": "86f0128f",
   "metadata": {},
   "outputs": [],
   "source": [
    "# First, set up for plotting\n",
    "fig, ax = plt.subplots(constrained_layout=True)\n",
    "\n",
    "(line,) = ax.plot(pos, vpot)  # A line for the potential\n",
    "point = ax.scatter(\n",
    "    [], [], s=100, marker=\"o\"\n",
    ")  # A point for showing the particle\n",
    "ax.set_xlim(-1.8, 1.8)\n",
    "ax.set_ylim(-1.1, 2.6)\n",
    "ax.set(xlabel=\"Position (arbitrary unit)\", ylabel=\"Energy (arbitrary unit)\")\n",
    "sns.despine(fig=fig)\n",
    "\n",
    "\n",
    "simulation = MDSimulation(system=system, integrator=integrator, steps=100000)\n",
    "\n",
    "\n",
    "def init():\n",
    "    return [point]\n",
    "\n",
    "\n",
    "def update(frame, system, simulation, point):\n",
    "    for _ in range(10):\n",
    "        simulation.step()\n",
    "\n",
    "    pos = system.particles.pos.flatten()[0]\n",
    "    vpot = system.particles.v_pot\n",
    "    point.set_offsets([pos, vpot])\n",
    "    return [point]\n",
    "\n",
    "\n",
    "anim = FuncAnimation(\n",
    "    fig,\n",
    "    update,\n",
    "    frames=int(simulation.steps / 10) + 1,\n",
    "    fargs=[system, simulation, point],\n",
    "    repeat=False,\n",
    "    interval=1,\n",
    "    blit=True,\n",
    "    init_func=init,\n",
    ")\n",
    "\n",
    "plt.show()"
   ]
  }
 ],
 "metadata": {
  "kernelspec": {
   "display_name": "Python 3 (ipykernel)",
   "language": "python",
   "name": "python3"
  },
  "language_info": {
   "codemirror_mode": {
    "name": "ipython",
    "version": 3
   },
   "file_extension": ".py",
   "mimetype": "text/x-python",
   "name": "python",
   "nbconvert_exporter": "python",
   "pygments_lexer": "ipython3",
   "version": "3.10.6"
  }
 },
 "nbformat": 4,
 "nbformat_minor": 5
}
